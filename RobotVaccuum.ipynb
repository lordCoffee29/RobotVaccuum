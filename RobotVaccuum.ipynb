{
 "cells": [
  {
   "cell_type": "markdown",
   "metadata": {},
   "source": [
    "## PEAS description of the cleaning phase\n",
    "\n",
    "__Performance Measure:__ Each action costs 1 energy unit. The performance is measured as the sum of the energy units used to clean the whole room.\n",
    "\n",
    "__Environment:__ A room with $n \\times n$ squares where $n = 5$. Dirt is randomly placed on each square with probability $p = 0.2$. For simplicity, you can assume that the agent knows the size and the layout of the room (i.e., it knows $n$). To start, the agent is placed on a random square.\n",
    "\n",
    "__Actuators:__ The agent can clean the current square (action `suck`) or move to an adjacent square by going `north`, `east`, `south`, or `west`.\n",
    "\n",
    "__Sensors:__ Four bumper sensors, one for north, east, south, and west; a dirt sensor reporting dirt in the current square.  \n",
    "\n",
    "\n",
    "## The agent program for a simple randomized agent\n",
    "\n",
    "The agent program is a function that gets sensor information (the current percepts) as the arguments. The arguments are:\n",
    "\n",
    "* A dictionary with boolean entries for the for bumper sensors `north`, `east`, `west`, `south`. E.g., if the agent is on the north-west corner, `bumpers` will be `{\"north\" : True, \"east\" : False, \"south\" : False, \"west\" : True}`.\n",
    "* The dirt sensor produces a boolean.\n",
    "\n",
    "The agent returns the chosen action as a string.\n",
    "\n",
    "Here is an example implementation for the agent program of a simple randomized agent:  "
   ]
  },
  {
   "cell_type": "code",
   "execution_count": 4,
   "metadata": {},
   "outputs": [],
   "source": [
    "import numpy as np\n",
    "\n",
    "actions = [\"north\", \"east\", \"west\", \"south\", \"suck\"]\n",
    "\n",
    "def simple_randomized_agent(bumpers, dirty):\n",
    "    return np.random.choice(actions)"
   ]
  },
  {
   "cell_type": "code",
   "execution_count": 5,
   "metadata": {},
   "outputs": [
    {
     "data": {
      "text/plain": [
       "'north'"
      ]
     },
     "execution_count": 5,
     "metadata": {},
     "output_type": "execute_result"
    }
   ],
   "source": [
    "# define percepts (current location is NW corner and it is dirty)\n",
    "bumpers = {\"north\" : True, \"east\" : False, \"south\" : False, \"west\" : True}\n",
    "dirty = True\n",
    "\n",
    "# call agent program function with percepts and it returns an action\n",
    "simple_randomized_agent(bumpers, dirty)"
   ]
  },
  {
   "cell_type": "markdown",
   "metadata": {},
   "source": [
    "Note: This is not a rational intelligent agent. It ignores its sensors and may bump into a wall repeatedly or not clean a dirty square. You will be asked to implement rational agents below."
   ]
  },
  {
   "cell_type": "markdown",
   "metadata": {},
   "source": [
    "## Simple environment example\n",
    "\n",
    "We implement a simple simulation environment that supplies the agent with its percepts.\n",
    "The simple environment is infinite in size (bumpers are always `False`) and every square is always dirty, even if the agent cleans it. The environment function returns a different performance measure than the one specified in the PEAS description! Since the room is infinite and all squares are constantly dirty, the agent can never clean the whole room. Your implementation needs to implement the **correct performance measure.** The energy budget of the agent is specified as `max_steps`."
   ]
  },
  {
   "cell_type": "code",
   "execution_count": 6,
   "metadata": {},
   "outputs": [],
   "source": [
    "def simple_environment(agent, n, max_steps, verbose = True):\n",
    "    num_cleaned = 0\n",
    "\n",
    "    for i in range(max_steps):\n",
    "        dirty = True\n",
    "        bumpers = {\"north\" : False, \"south\" : False, \"west\" : False, \"east\" : False}\n",
    "\n",
    "        action = agent(bumpers, dirty)\n",
    "        if (verbose): print(\"step\", i , \"- action:\", action)\n",
    "\n",
    "        if (action == \"suck\"):\n",
    "            num_cleaned = num_cleaned + 1\n",
    "\n",
    "    return num_cleaned\n",
    "\n"
   ]
  },
  {
   "cell_type": "markdown",
   "metadata": {},
   "source": [
    "Do one simulation run with a simple randomized agent that has enough energy for 20 steps."
   ]
  },
  {
   "cell_type": "code",
   "execution_count": 7,
   "metadata": {},
   "outputs": [
    {
     "name": "stdout",
     "output_type": "stream",
     "text": [
      "step 0 - action: west\n",
      "step 1 - action: west\n",
      "step 2 - action: west\n",
      "step 3 - action: suck\n",
      "step 4 - action: north\n",
      "step 5 - action: suck\n",
      "step 6 - action: east\n",
      "step 7 - action: east\n",
      "step 8 - action: west\n",
      "step 9 - action: suck\n",
      "step 10 - action: suck\n",
      "step 11 - action: east\n",
      "step 12 - action: suck\n",
      "step 13 - action: west\n",
      "step 14 - action: suck\n",
      "step 15 - action: west\n",
      "step 16 - action: north\n",
      "step 17 - action: south\n",
      "step 18 - action: suck\n",
      "step 19 - action: south\n"
     ]
    },
    {
     "data": {
      "text/plain": [
       "7"
      ]
     },
     "execution_count": 7,
     "metadata": {},
     "output_type": "execute_result"
    }
   ],
   "source": [
    "simple_environment(simple_randomized_agent, n = 5, max_steps = 20)"
   ]
  },
  {
   "cell_type": "markdown",
   "metadata": {},
   "source": [
    "# Tasks"
   ]
  },
  {
   "cell_type": "markdown",
   "metadata": {},
   "source": [
    "## Task 1: Implement a simulation environment\n",
    "\n",
    "The simple environment above is not very realistic. This environment simulator needs to:\n",
    "\n",
    "* Initialize the environment by storing the state of each square (clean/dirty) and making some dirty.\n",
    "* Keep track of the agent's position.\n",
    "* Call the agent function repeatedly and provide the agent function with the sensor inputs.  \n",
    "* React to the agent's actions. E.g, by removing dirt from a square or moving the agent around unless there is a wall in the way.\n",
    "* Keep track of the performance measure. That is, track the agent's actions until all dirty squares are clean and count the number of actions it takes the agent to complete the task.\n",
    "\n",
    "The implementation holds a 2-dimensional array to represent if squares are clean or dirty and to call the agent function in a loop until all squares are clean or a predefined number of steps have been reached (i.e., the robot runs out of energy)."
   ]
  },
  {
   "cell_type": "markdown",
   "metadata": {},
   "source": [
    "## Notes on implementation:\n",
    "\n",
    "My approach on this task began with an agent that reacts only to dirt.  If the square is dirty, the robot will clean it.  If not, the robot will randomly attempt to move to another square.\n",
    "\n",
    "The testing environment is a 5x5 grid with 1's and 0's.  A 1 means the square is dirty. A 0 means the square is clean.  There is a 20% chance each square will be dirty.  The robot will continue until either all dirty squares are clean or until it's out of energy."
   ]
  },
  {
   "cell_type": "code",
   "execution_count": 8,
   "metadata": {},
   "outputs": [],
   "source": [
    "import numpy as np\n",
    "\n",
    "actions = [\"north\", \"east\", \"west\", \"south\"]\n",
    "\n",
    "# This randomized agent reacts to dirt; cleans if dirty, moves if not\n",
    "def randomized_agent(bumpers, dirty):\n",
    "  if(dirty):\n",
    "    return \"suck\"\n",
    "  else:\n",
    "    return np.random.choice(actions)\n",
    "\n",
    "def simulation_environment(agent, n, max_steps, verbose = True):\n",
    "\n",
    "  # Creating the environment/starting parameters\n",
    "  rng = np.random.default_rng()\n",
    "  p = .2\n",
    "  values = []\n",
    "  steps = 0\n",
    "  cleaned = 0\n",
    "\n",
    "  # Generate the environment of clean and dirty squares\n",
    "  for i in range(n*n):\n",
    "    values.append(rng.random() < p)\n",
    "\n",
    "  env = np.array(values).reshape(n, n)\n",
    "  env = 1*env\n",
    "\n",
    "  # Count of dirty squares in the environment\n",
    "  dirty_count = env.sum()\n",
    "\n",
    "  # The robot spawns into the environment\n",
    "  pos = [np.random.randint(0, n - 1), np.random.randint(0, n - 1)]\n",
    "\n",
    "\n",
    "  # The robot begins cleaning the environment\n",
    "  while(steps < max_steps and cleaned < dirty_count):\n",
    "      # Get the location into x and y coordinates\n",
    "      x, y = pos\n",
    "      # If the square is dirty or not\n",
    "      dirty = env[x, y]\n",
    "\n",
    "      # Bumper sensor to pass into the agent (not considered for this task)\n",
    "      bumpers = {\"north\" : x == 0, \"south\" : x == n - 1, \"west\" : y == 0, \"east\" : y == n - 1}\n",
    "\n",
    "      # Call agent function to react to the dirt sensor and the bumper sensor\n",
    "      action = agent(bumpers, dirty)\n",
    "\n",
    "      # Step 1\n",
    "      if (verbose): print(\"step\", steps + 1, \": position:\", pos, \"action: \", action)\n",
    "\n",
    "      # Update the location and/or cleanliness status of the square based on the action\n",
    "      if (action == \"suck\"):\n",
    "        cleaned += 1\n",
    "        env[pos] = False\n",
    "      elif(action == \"north\" and bumpers[\"north\"] == False):\n",
    "        pos[0] -= 1\n",
    "      elif(action == \"east\" and bumpers[\"east\"] == False):\n",
    "        pos[1] += 1\n",
    "      elif(action == \"west\" and bumpers[\"west\"] == False):\n",
    "        pos[1] -= 1\n",
    "      elif(action == \"south\" and bumpers[\"south\"] == False):\n",
    "        pos[0] += 1\n",
    "\n",
    "      # Move onto the next step\n",
    "      steps += 1\n",
    "\n",
    "  return cleaned, steps\n",
    "\n"
   ]
  },
  {
   "cell_type": "code",
   "execution_count": 9,
   "metadata": {},
   "outputs": [
    {
     "name": "stdout",
     "output_type": "stream",
     "text": [
      "step 1 : position: [3, 2] action:  suck\n",
      "step 2 : position: [3, 2] action:  east\n",
      "step 3 : position: [3, 3] action:  south\n",
      "step 4 : position: [4, 3] action:  west\n",
      "step 5 : position: [4, 2] action:  east\n",
      "step 6 : position: [4, 3] action:  east\n",
      "step 7 : position: [4, 4] action:  north\n",
      "step 8 : position: [3, 4] action:  east\n",
      "step 9 : position: [3, 4] action:  east\n",
      "step 10 : position: [3, 4] action:  north\n",
      "step 11 : position: [2, 4] action:  west\n",
      "step 12 : position: [2, 3] action:  north\n",
      "step 13 : position: [1, 3] action:  west\n",
      "step 14 : position: [1, 2] action:  east\n",
      "step 15 : position: [1, 3] action:  south\n",
      "step 16 : position: [2, 3] action:  south\n",
      "step 17 : position: [3, 3] action:  north\n",
      "step 18 : position: [2, 3] action:  east\n",
      "step 19 : position: [2, 4] action:  south\n",
      "step 20 : position: [3, 4] action:  north\n",
      "Finished: Energy used (performance measure): 20\n",
      "Total cleaned: 1, Steps taken: 20\n"
     ]
    }
   ],
   "source": [
    "# Run the agent in the environment\n",
    "cleaned, steps = simulation_environment(randomized_agent, n = 5, max_steps = 20)\n",
    "print(f\"Finished: Energy used (performance measure): {steps}\\nTotal cleaned: {cleaned}, Steps taken: {steps}\")"
   ]
  },
  {
   "cell_type": "markdown",
   "metadata": {},
   "source": [
    "## Task 2:  Implement a simple reflex agent\n",
    "\n",
    "The simple reflex agent randomly walks around but reacts to the bumper sensor by not bumping into the wall and to dirt with sucking. "
   ]
  },
  {
   "cell_type": "markdown",
   "metadata": {},
   "source": [
    "## Notes on implementation:\n",
    "\n",
    "My approach on this task began with an agent that reacts only to dirt.  If the square is dirty, the robot will clean it.  If not, the robot will randomly attempt to move to another square.  This time, the robot will not proceed if it is blocked by one of the walls.  It does this by randomly generating an action, but if the bumper sensor is activated, it will generate another action.  Only an action that isn't blocked will be returned to the environment.\n",
    "\n",
    "This task uses the same environment from the last task.  The testing environment is a 5x5 grid with 1's and 0's.  A 1 means the square is dirty. A 0 means the square is clean.  There is a 20% chance each square will be dirty.  The robot will continue until either all dirty squares are clean or until it's out of energy."
   ]
  },
  {
   "cell_type": "code",
   "execution_count": 10,
   "metadata": {},
   "outputs": [],
   "source": [
    "import numpy as np\n",
    "\n",
    "# Possible actions\n",
    "actions = [\"north\", \"east\", \"west\", \"south\"]\n",
    "\n",
    "# Creating the simple reflex agent\n",
    "#    This agent reacs to bumper sensors, unlike the other one\n",
    "def simple_reflex_agent(bumpers, dirty):\n",
    "  if(dirty):\n",
    "    return \"suck\"\n",
    "  else:\n",
    "    while(True):\n",
    "      # Randomly generates an action and checks to see if it's blocked\n",
    "      action = np.random.choice(actions)\n",
    "      # Proceed if not blocked\n",
    "      if(bumpers[action] == False):\n",
    "          return action\n",
    "          break\n"
   ]
  },
  {
   "cell_type": "code",
   "execution_count": 11,
   "metadata": {},
   "outputs": [
    {
     "name": "stdout",
     "output_type": "stream",
     "text": [
      "step 1 : position: [0, 3] action:  south\n",
      "step 2 : position: [1, 3] action:  east\n",
      "step 3 : position: [1, 4] action:  north\n",
      "step 4 : position: [0, 4] action:  south\n",
      "step 5 : position: [1, 4] action:  south\n",
      "step 6 : position: [2, 4] action:  west\n",
      "step 7 : position: [2, 3] action:  east\n",
      "step 8 : position: [2, 4] action:  south\n",
      "step 9 : position: [3, 4] action:  west\n",
      "step 10 : position: [3, 3] action:  south\n",
      "step 11 : position: [4, 3] action:  west\n",
      "step 12 : position: [4, 2] action:  east\n",
      "step 13 : position: [4, 3] action:  north\n",
      "step 14 : position: [3, 3] action:  south\n",
      "step 15 : position: [4, 3] action:  east\n",
      "step 16 : position: [4, 4] action:  west\n",
      "step 17 : position: [4, 3] action:  west\n",
      "step 18 : position: [4, 2] action:  north\n",
      "step 19 : position: [3, 2] action:  suck\n",
      "step 20 : position: [3, 2] action:  north\n",
      "Finished: Energy used (performance measure): 20\n",
      "Total cleaned: 1, Steps taken: 20\n"
     ]
    }
   ],
   "source": [
    "# Run the agent in the environment\n",
    "cleaned, steps = simulation_environment(simple_reflex_agent, n = 5, max_steps = 20)\n",
    "print(f\"Finished: Energy used (performance measure): {steps}\\nTotal cleaned: {cleaned}, Steps taken: {steps}\")"
   ]
  },
  {
   "cell_type": "markdown",
   "metadata": {},
   "source": [
    "## Task 3: Implement a model-based reflex agent\n",
    "\n",
    "Model-based agents use a state to keep track of what they have done and perceived so far. This agent needs to find out where it is located and then keep track of its current location. There also needs to be a set of rules based on the state and the percepts to make sure that the agent will clean the whole room. For example, the agent can move to a corner to determine its location and then it can navigate through the whole room and clean dirty squares."
   ]
  },
  {
   "cell_type": "markdown",
   "metadata": {},
   "source": [
    "## Notes on implementation:\n",
    "\n",
    "My approach on this task begins with creating an Agent class.  The class keeps track of the robot's location, unlike previous agents.  It has two actions: go to the corner and the standard cleaning action.  The first action is going to the corner, where it's not cleaning anything but simply relocating to the northwest corner.  Then, the \"act\" is called, in which the robot goes from one side of the grid to the other to clean, moving down when it has completed a row.\n",
    "\n",
    "The environment is slightly modified, as the robot keeps track of its location.  The environment includes a start where the robot finds the corner, and then begins cleaning.  What's different is that the location is updated and stored within the robot instead of the environment."
   ]
  },
  {
   "cell_type": "code",
   "execution_count": 12,
   "metadata": {},
   "outputs": [],
   "source": [
    "# Creating a model-based agent\n",
    "class Agent:\n",
    "    def __init__(self, pos = [0, 0], name = \"Agent\"):\n",
    "        # Initialization parameters\n",
    "        self.pos = pos\n",
    "        self.x = pos[0]\n",
    "        self.y = pos[1]\n",
    "        self.name = name\n",
    "\n",
    "    # Updates the location, the robot keeps track\n",
    "    def update_loc(self, action):\n",
    "        if(action == \"north\"):\n",
    "          self.x -= 1\n",
    "        elif(action == \"south\"):\n",
    "          self.x += 1\n",
    "        elif(action == \"west\"):\n",
    "          self.y -= 1\n",
    "        elif(action == \"east\"):\n",
    "          self.y += 1\n",
    "\n",
    "    # Return the location of the robot\n",
    "    def get_loc(self):\n",
    "        return [self.x, self.y]\n",
    "\n",
    "    # Return the x-coordinate of the robot\n",
    "    def get_loc_x(self):\n",
    "        return self.x\n",
    "\n",
    "    # Return the y-coordinate of the robot\n",
    "    def get_loc_y(self):\n",
    "        return self.y\n",
    "\n",
    "    # The robot finds the northwest corner\n",
    "    def go_to_corner(self, go_here):\n",
    "        action = go_here\n",
    "\n",
    "        if(go_here == \"north\" and self.x > 0):\n",
    "          self.pos = [self.x - 1, self.y]\n",
    "        elif(go_here == \"west\" and self.y > 0):\n",
    "          self.pos = ([self.x, self.y - 1])\n",
    "\n",
    "        return action\n",
    "\n",
    "    # Cleans the room from the corner\n",
    "    def act(self, bumpers, dirty):\n",
    "        if(dirty):\n",
    "          return \"suck\"\n",
    "        # If on an even row (0, 2, 4...), the robot will move east and then move\n",
    "        #    south if the wall is encountered\n",
    "        elif(self.x % 2 == 0):\n",
    "          if(bumpers[\"east\"] == True):\n",
    "            return \"south\"\n",
    "          else:\n",
    "            return \"east\"\n",
    "        # If on an odd row (1, 3, 5...), the robot will move west and then move\n",
    "        #    south if the wall is encountered\n",
    "        elif(self.x % 2 == 1):\n",
    "          if(bumpers[\"west\"] == True):\n",
    "            return \"south\"\n",
    "          else:\n",
    "            return \"west\"\n"
   ]
  },
  {
   "cell_type": "code",
   "execution_count": 13,
   "metadata": {},
   "outputs": [],
   "source": [
    "# Creating an environment for the model-based reflex agent\n",
    "def new_environment(agent, n, max_steps, verbose = True):\n",
    "\n",
    "  # Creating the environment/starting parameters\n",
    "  rng = np.random.default_rng()\n",
    "  p = .2\n",
    "  values = []\n",
    "  steps = 0\n",
    "  cleaned = 0\n",
    "\n",
    "  # Create the environment of clean and dirty squares\n",
    "  for i in range(n*n):\n",
    "    values.append(rng.random() < p)\n",
    "\n",
    "  env = np.array(values).reshape(n, n)\n",
    "  env = 1*env\n",
    "\n",
    "  # Count of all dirty squares in the environment\n",
    "  dirty_count = env.sum()\n",
    "\n",
    "  # Finding the x-coordinate of the northwest corner\n",
    "  while(agent.get_loc_x() != 0):\n",
    "    action = agent.go_to_corner(\"north\")\n",
    "    if (verbose): print(\"step\", steps + 1, \": position:\", agent.get_loc(), \"action: \", action)\n",
    "    agent.update_loc(action)\n",
    "    steps += 1\n",
    "\n",
    "  # Finding the y-coordinate of the northwest corner\n",
    "  while(agent.get_loc_y() != 0):\n",
    "    action = agent.go_to_corner(\"west\")\n",
    "    if (verbose): print(\"step\", steps + 1, \": position:\", agent.get_loc(), \"action: \", action)\n",
    "    agent.update_loc(action)\n",
    "    steps += 1\n",
    "\n",
    "  # Cleaning the environment\n",
    "  while(steps < max_steps and cleaned < dirty_count):\n",
    "      # Get the x and y coordinates of the robot's location\n",
    "      x = agent.get_loc_x()\n",
    "      y = agent.get_loc_y()\n",
    "\n",
    "      # If a square is dirty or not\n",
    "      dirty = env[x, y]\n",
    "\n",
    "      # Bumper information\n",
    "      bumpers = {\"north\" : x == 0, \"south\" : x == n - 1, \"west\" : y == 0, \"east\" : y == n - 1}\n",
    "\n",
    "      # Generate an action based on the bumper and dirt sensor\n",
    "      action = agent.act(bumpers, dirty)\n",
    "\n",
    "      # Step 1\n",
    "      if (verbose): print(\"step\", steps + 1, \": position:\", agent.get_loc(), \"action: \", action)\n",
    "\n",
    "      # Robot either cleans or moves\n",
    "      if(action == \"suck\"):\n",
    "        cleaned += 1\n",
    "        env[tuple(agent.get_loc())] = 0\n",
    "      else:\n",
    "        agent.update_loc(action)\n",
    "\n",
    "      # Move to next step\n",
    "      steps += 1\n",
    "\n",
    "  return cleaned, steps"
   ]
  },
  {
   "cell_type": "code",
   "execution_count": 14,
   "metadata": {},
   "outputs": [
    {
     "name": "stdout",
     "output_type": "stream",
     "text": [
      "step 1 : position: [3, 3] action:  north\n",
      "step 2 : position: [2, 3] action:  north\n",
      "step 3 : position: [1, 3] action:  north\n",
      "step 4 : position: [0, 3] action:  west\n",
      "step 5 : position: [0, 2] action:  west\n",
      "step 6 : position: [0, 1] action:  west\n",
      "step 7 : position: [0, 0] action:  suck\n",
      "step 8 : position: [0, 0] action:  east\n",
      "step 9 : position: [0, 1] action:  east\n",
      "step 10 : position: [0, 2] action:  east\n",
      "step 11 : position: [0, 3] action:  east\n",
      "step 12 : position: [0, 4] action:  south\n",
      "step 13 : position: [1, 4] action:  west\n",
      "step 14 : position: [1, 3] action:  west\n",
      "step 15 : position: [1, 2] action:  west\n",
      "step 16 : position: [1, 1] action:  west\n",
      "step 17 : position: [1, 0] action:  south\n",
      "step 18 : position: [2, 0] action:  east\n",
      "step 19 : position: [2, 1] action:  east\n",
      "step 20 : position: [2, 2] action:  east\n",
      "step 21 : position: [2, 3] action:  east\n",
      "step 22 : position: [2, 4] action:  south\n",
      "step 23 : position: [3, 4] action:  west\n",
      "step 24 : position: [3, 3] action:  west\n",
      "step 25 : position: [3, 2] action:  west\n",
      "step 26 : position: [3, 1] action:  suck\n",
      "step 27 : position: [3, 1] action:  west\n",
      "step 28 : position: [3, 0] action:  suck\n",
      "Finished: Energy used (performance measure): 28\n",
      "Total cleaned: 3, Steps taken: 28\n"
     ]
    }
   ],
   "source": [
    "# Running the agent in the environment\n",
    "n = 5\n",
    "pos = [np.random.randint(0, n - 1), np.random.randint(0, n - 1)]\n",
    "agent = Agent(pos = pos, name = \"Agent\")\n",
    "cleaned, steps = new_environment(agent, n = 5, max_steps = 100)\n",
    "print(f\"Finished: Energy used (performance measure): {steps}\\nTotal cleaned: {cleaned}, Steps taken: {steps}\")"
   ]
  },
  {
   "cell_type": "markdown",
   "metadata": {},
   "source": [
    "## Task 4: Simulation study [30 Points]\n",
    "\n",
    "Comparison of the performance (the performance measure is defined in the PEAS description above) of the agents using environments of different size. E.g., $5 \\times 5$, $10 \\times 10$ and\n",
    "$100 \\times 100$. Used 100 random runs for each and the results are presented using tables and graphs."
   ]
  },
  {
   "cell_type": "code",
   "execution_count": 15,
   "metadata": {},
   "outputs": [],
   "source": [
    "# Initialize empty lists for all the performance scores\n",
    "ra_perf = []\n",
    "sra_perf = []\n",
    "mra_perf = []\n",
    "\n",
    "# Buffer\n",
    "temp = []\n",
    "\n",
    "# Reflex agent - 5x5\n",
    "for i in range(100):\n",
    "  cleaned, steps = simulation_environment(randomized_agent, n = 5, max_steps = 1000, verbose = False)\n",
    "  temp.append(steps)\n",
    "\n",
    "ra_perf.append(temp)\n",
    "temp = []\n",
    "\n",
    "# Reflex agent - 10x10\n",
    "for i in range(100):\n",
    "  cleaned, steps = simulation_environment(randomized_agent, n = 10, max_steps = 1000, verbose = False)\n",
    "  temp.append(steps)\n",
    "\n",
    "ra_perf.append(temp)\n",
    "temp = []\n",
    "\n",
    "# Reflex agent - 100x100\n",
    "for i in range(100):\n",
    "  cleaned, steps = simulation_environment(randomized_agent, n = 100, max_steps = 1000, verbose = False)\n",
    "  temp.append(steps)\n",
    "\n",
    "ra_perf.append(temp)\n",
    "temp = []\n",
    "\n",
    "\n",
    "# Simple reflex agent - 5x5\n",
    "for i in range(100):\n",
    "  cleaned, steps = simulation_environment(simple_reflex_agent, n = 5, max_steps = 1000, verbose = False)\n",
    "  temp.append(steps)\n",
    "\n",
    "sra_perf.append(temp)\n",
    "temp = []\n",
    "\n",
    "# Simple reflex agent - 10x10\n",
    "for i in range(100):\n",
    "  cleaned, steps = simulation_environment(simple_reflex_agent, n = 10, max_steps = 1000, verbose = False)\n",
    "  temp.append(steps)\n",
    "\n",
    "sra_perf.append(temp)\n",
    "temp = []\n",
    "\n",
    "# Simple reflex agent - 10x10\n",
    "for i in range(100):\n",
    "  cleaned, steps = simulation_environment(simple_reflex_agent, n = 100, max_steps = 1000, verbose = False)\n",
    "  temp.append(steps)\n",
    "\n",
    "sra_perf.append(temp)\n",
    "temp = []\n",
    "\n",
    "\n",
    "# Model-based reflex agent - 5x5\n",
    "for i in range(100):\n",
    "  n = 5\n",
    "  pos = [np.random.randint(0, n - 1), np.random.randint(0, n - 1)]\n",
    "  agent = Agent(pos = pos, name = \"Agent 5\")\n",
    "  cleaned, steps = new_environment(agent, n = n, max_steps = 1000, verbose = False)\n",
    "  temp.append(steps)\n",
    "\n",
    "mra_perf.append(temp)\n",
    "temp = []\n",
    "\n",
    "# Model-based reflex agent - 10x10\n",
    "for i in range(100):\n",
    "  n = 10\n",
    "  pos = [np.random.randint(0, n - 1), np.random.randint(0, n - 1)]\n",
    "  agent = Agent(pos = pos, name = \"Agent 5\")\n",
    "  cleaned, steps = new_environment(agent, n = n, max_steps = 1000, verbose = False)\n",
    "  temp.append(steps)\n",
    "\n",
    "mra_perf.append(temp)\n",
    "temp = []\n",
    "\n",
    "# Model-based reflex agent - 100x100\n",
    "for i in range(100):\n",
    "  n = 100\n",
    "  pos = [np.random.randint(0, n - 1), np.random.randint(0, n - 1)]\n",
    "  agent = Agent(pos = pos, name = \"Agent 5\")\n",
    "  cleaned, steps = new_environment(agent, n = n, max_steps = 1000, verbose = False)\n",
    "  temp.append(steps)\n",
    "\n",
    "mra_perf.append(temp)\n",
    "temp = []"
   ]
  },
  {
   "cell_type": "code",
   "execution_count": 16,
   "metadata": {},
   "outputs": [],
   "source": [
    "# Gather each average\n",
    "average_ra_5 = np.mean(ra_perf[0])\n",
    "average_ra_10 = np.mean(ra_perf[1])\n",
    "average_ra_100 = np.mean(ra_perf[2])\n",
    "average_sra_5 = np.mean(sra_perf[0])\n",
    "average_sra_10 = np.mean(sra_perf[1])\n",
    "average_sra_100 = np.mean(sra_perf[2])\n",
    "average_mra_5 = np.mean(mra_perf[0])\n",
    "average_mra_10 = np.mean(mra_perf[1])\n",
    "average_mra_100 = np.mean(mra_perf[2])\n",
    "\n",
    "# Store the averages\n",
    "average_ra = [average_ra_5, average_ra_10, average_ra_100]\n",
    "average_sra = [average_sra_5, average_sra_10, average_sra_100]\n",
    "average_mra = [average_mra_5, average_mra_10, average_mra_100]\n",
    "\n",
    "# Cumulative averages\n",
    "averages = [average_ra, average_sra, average_mra]"
   ]
  },
  {
   "cell_type": "markdown",
   "metadata": {},
   "source": [
    "Fill out the following table with the average performance measure for 100 random runs (you may also create this table with code):\n",
    "\n",
    "| Size     | Randomized Agent | Simple Reflex Agent | Model-based Reflex Agent |\n",
    "|----------|------------------|---------------------|--------------------------|\n",
    "| 5x5     |897.99|898.6|28.24 |\n",
    "| 10x10   |1000.0 |1000.0 |124.48 |\n",
    "| 100x100 |1000.0 |1000.0 |1000.0 |\n",
    "\n",
    "Add charts to compare the performance of the different agents."
   ]
  },
  {
   "cell_type": "code",
   "execution_count": 17,
   "metadata": {},
   "outputs": [
    {
     "data": {
      "image/png": "[encoded data removed]",
      "text/plain": [
       "<Figure size 432x288 with 1 Axes>"
      ]
     },
     "metadata": {
      "needs_background": "light"
     },
     "output_type": "display_data"
    }
   ],
   "source": [
    "import matplotlib.pyplot as plt\n",
    "\n",
    "# Aesthetic graph parameters\n",
    "N = 3\n",
    "ind = np.arange(N)\n",
    "width = 0.25\n",
    "\n",
    "# Set up each of the bars (an agent per bar)\n",
    "bar1 = plt.bar(ind, average_ra, width, color = 'lightblue')\n",
    "bar2 = plt.bar(ind+width, average_sra, width, color='mediumblue')\n",
    "bar3 = plt.bar(ind+width*2, average_mra, width, color = 'darkblue')\n",
    "\n",
    "# Graph labels\n",
    "plt.xlabel(\"Size\")\n",
    "plt.ylabel('Performance measure (average steps)')\n",
    "plt.title(\"Performance measure (average steps) of each Agent in Various Grid Sizes\")\n",
    "\n",
    "# Generate the graph\n",
    "plt.xticks(ind+width,['5 x 5', '10 x 10', '100 x 100'] )\n",
    "plt.legend((bar1, bar2, bar3), ('Randomized Agent', 'Simple Randomized Agent', 'Model-Based Randomized Agent'))\n",
    "plt.show()"
   ]
  },
  {
   "cell_type": "markdown",
   "metadata": {},
   "source": [
    "## Explanation\n",
    "\n",
    "Overall, the randomized agent and the simple randomized agent performed relatively similarly.  This makes sense because both agents rely on pure randomization, even if one has a parameter that reduces some randomness.  The model-based random agent seemed to perform better, as it was certain that it would hit all the squares.  While the random agents might have circled all around the grid without checking all the squares.  However, for a 100x100, all models seemed to perform the same.  With a higher max_steps count, a difference might be more apparent."
   ]
  }
 ],
 "metadata": {
  "kernelspec": {
   "display_name": "Python 3",
   "language": "python",
   "name": "python3"
  },
  "language_info": {
   "codemirror_mode": {
    "name": "ipython",
    "version": 3
   },
   "file_extension": ".py",
   "mimetype": "text/x-python",
   "name": "python",
   "nbconvert_exporter": "python",
   "pygments_lexer": "ipython3",
   "version": "3.8.8"
  },
  "orig_nbformat": 4
 },
 "nbformat": 4,
 "nbformat_minor": 2
}
